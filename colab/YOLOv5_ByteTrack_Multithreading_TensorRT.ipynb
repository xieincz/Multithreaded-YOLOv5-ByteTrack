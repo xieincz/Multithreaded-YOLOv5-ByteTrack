{
  "cells": [
    {
      "cell_type": "markdown",
      "metadata": {
        "id": "QwtBfaXp0w3K"
      },
      "source": [
        "## Fetch code"
      ]
    },
    {
      "cell_type": "code",
      "execution_count": null,
      "metadata": {
        "colab": {
          "base_uri": "https://localhost:8080/"
        },
        "id": "7OxwJ5r9kbCO",
        "outputId": "e4acf8f0-850d-445a-8be2-d62fb1afc9b4"
      },
      "outputs": [],
      "source": [
        "!rm -rf YOLOv5_ByteTrack_Multithreading_TensorRT\n",
        "!git clone https://github.com/xieincz/YOLOv5_ByteTrack_Multithreading_TensorRT.git"
      ]
    },
    {
      "cell_type": "markdown",
      "metadata": {
        "id": "Txtr0cmJ0846"
      },
      "source": [
        "## Prepare environment\n",
        "note: Please turn on GPU"
      ]
    },
    {
      "cell_type": "code",
      "execution_count": null,
      "metadata": {
        "colab": {
          "base_uri": "https://localhost:8080/"
        },
        "id": "Xb1AHkKMwV-5",
        "outputId": "22a5b089-99a0-409e-a558-9890ccdb407e"
      },
      "outputs": [],
      "source": [
        "import torch\n",
        "t=torch.tensor([1,2,3,4])\n",
        "t.cuda()#Avoid colab prompt that GPU is not used"
      ]
    },
    {
      "cell_type": "code",
      "execution_count": null,
      "metadata": {
        "colab": {
          "base_uri": "https://localhost:8080/"
        },
        "id": "MI-oAGlEsaoy",
        "outputId": "e86933ca-4378-42fe-9e8b-cae5cd642408"
      },
      "outputs": [],
      "source": [
        "!wget https://developer.download.nvidia.com/compute/cuda/11.1.1/local_installers/cuda_11.1.1_455.32.00_linux.run"
      ]
    },
    {
      "cell_type": "code",
      "execution_count": null,
      "metadata": {
        "colab": {
          "base_uri": "https://localhost:8080/"
        },
        "id": "KUDMSJ_RMrH7",
        "outputId": "c2d64ef5-5068-4716-c30b-df3b83637bfd"
      },
      "outputs": [],
      "source": [
        "%%shell\n",
        "sudo apt-get --purge remove \"*cuda*\" \"*cublas*\" \"*cufft*\" \"*cufile*\" \"*curand*\" \\\n",
        " \"*cusolver*\" \"*cusparse*\" \"*gds-tools*\" \"*npp*\" \"*nvjpeg*\" \"nsight*\" \"*nvvm*\" --allow-change-held-packages -y\n",
        "\n",
        "sudo apt-get autoremove"
      ]
    },
    {
      "cell_type": "code",
      "execution_count": null,
      "metadata": {
        "colab": {
          "base_uri": "https://localhost:8080/"
        },
        "id": "Syj9vk1GWzcc",
        "outputId": "e885dbfb-b086-41db-f9cb-9a25396050e9"
      },
      "outputs": [],
      "source": [
        "!sudo sh cuda_11.1.1_455.32.00_linux.run --help"
      ]
    },
    {
      "cell_type": "code",
      "execution_count": null,
      "metadata": {
        "id": "9bcEqkfPzdgT"
      },
      "outputs": [],
      "source": [
        "!sudo sh cuda_11.1.1_455.32.00_linux.run --silent  --toolkit --samples"
      ]
    },
    {
      "cell_type": "code",
      "execution_count": null,
      "metadata": {
        "colab": {
          "base_uri": "https://localhost:8080/"
        },
        "id": "efvbHj511bu0",
        "outputId": "2eeb1b5d-1097-4aa8-9f18-3cdec324bb4b"
      },
      "outputs": [],
      "source": [
        "!cat /var/log/cuda-installer.log"
      ]
    },
    {
      "cell_type": "code",
      "execution_count": null,
      "metadata": {
        "colab": {
          "base_uri": "https://localhost:8080/"
        },
        "id": "fKp0jA46wEn7",
        "outputId": "decde891-5fd2-4c4c-aeac-1248ac0ddf56"
      },
      "outputs": [],
      "source": [
        "!sudo apt-get --purge remove cuda nvidia* libnvidia-*\n",
        "!sudo dpkg -l | grep cuda- | awk '{print $2}' | xargs -n1 dpkg --purge\n",
        "!sudo apt-get remove cuda-*\n",
        "!sudo apt autoremove"
      ]
    },
    {
      "cell_type": "markdown",
      "metadata": {
        "id": "3PbkMwcXDKgO"
      },
      "source": [
        "note: Next, the cell will ask you to enter options twice. Input 31 for the first time and 1 for the second time."
      ]
    },
    {
      "cell_type": "code",
      "execution_count": null,
      "metadata": {
        "colab": {
          "base_uri": "https://localhost:8080/"
        },
        "id": "0pz1sf_PwHfQ",
        "outputId": "f80b9ee2-b9d5-4e17-9420-7c38d65af5c8"
      },
      "outputs": [],
      "source": [
        "!sudo apt-get -y install nvidia-driver-460\n",
        "#31\n",
        "#1"
      ]
    },
    {
      "cell_type": "code",
      "execution_count": null,
      "metadata": {
        "colab": {
          "base_uri": "https://localhost:8080/"
        },
        "id": "XfKxc_KdYRqy",
        "outputId": "bc4c74c1-f235-4080-cc36-e784ca8c3b79"
      },
      "outputs": [],
      "source": [
        "%%shell\n",
        "cd /usr/local/cuda/samples/1_Utilities/deviceQuery\n",
        "rm -f deviceQuery\n",
        "sudo make\n",
        "./deviceQuery"
      ]
    },
    {
      "cell_type": "code",
      "execution_count": null,
      "metadata": {
        "colab": {
          "base_uri": "https://localhost:8080/"
        },
        "id": "jYHtiIA5XkWN",
        "outputId": "f7c34214-4ef7-4ad2-ec9e-ed6736042acd"
      },
      "outputs": [],
      "source": [
        "%env LD_LIBRARY_PATH=/usr/local/cuda-11.1/targets/x86_64-linux/lib:$LD_LIBARARY_PATH"
      ]
    },
    {
      "cell_type": "code",
      "execution_count": null,
      "metadata": {
        "colab": {
          "base_uri": "https://localhost:8080/"
        },
        "id": "95R4VBbC-yTl",
        "outputId": "1e87d42c-47f5-468e-c51b-b2b43c8ed993"
      },
      "outputs": [],
      "source": [
        "%%shell\n",
        "\n",
        "echo \"install TensorRT 7.2.2.3 on home\"\n",
        "sudo apt update\n",
        "sudo apt install -y nano\n",
        "\n",
        "cd /home\n",
        "echo \"be careful! The package installed here is only applicable to Ubuntu 18.04 cuda 11.1 & 11.2\"\n",
        "echo \"You can also download the file from the official website\"\n",
        "\n",
        "rm -f TensorRT7.2.2.3Ubuntu1804cuda11.1cudnn8.0.tar.gz\n",
        "\n",
        "wget https://extremevision-js-userfile.oss-cn-hangzhou.aliyuncs.com/user-45129-files/594bdc1f-557d-40da-bf48-645e779b6808/TensorRT7.2.2.3Ubuntu1804cuda11.1cudnn8.0.tar.gz\n",
        "\n",
        "tar -xzvf TensorRT7.2.2.3Ubuntu1804cuda11.1cudnn8.0.tar.gz\n",
        "\n",
        "sudo echo -e \"\\nexport TENSORRT_ROOT=/home/TensorRT-7.2.2.3\\n\n",
        "export LD_LIBRARY_PATH=/home/TensorRT-7.2.2.3/lib:$LD_LIBRARY_PATH\\n\n",
        "export CUDA_INSTALL_DIR=/usr/local/cuda\\n\n",
        "export CUDNN_INSTALL_DIR=/usr/local/cuda\\n\n",
        "export LD_LIBRARY_PATH=/usr/local/cuda-11.1/targets/x86_64-linux/lib:$LD_LIBARARY_PATH\" >> ~/.bashrc\n",
        "\n",
        "source ~/.bashrc\n",
        "\n",
        "sudo echo -e \"\\nexport TENSORRT_ROOT=/home/TensorRT-7.2.2.3\\n\n",
        "export LD_LIBRARY_PATH=/home/TensorRT-7.2.2.3/lib:$LD_LIBRARY_PATH\\n\n",
        "export CUDA_INSTALL_DIR=/usr/local/cuda\\n\n",
        "export CUDNN_INSTALL_DIR=/usr/local/cuda\\n\n",
        "export LD_LIBRARY_PATH=/usr/local/cuda-11.1/targets/x86_64-linux/lib:$LD_LIBARARY_PATH\" >> /etc/profile\n",
        "\n",
        "source /etc/profile\n",
        "\n",
        "cd /home/TensorRT-7.2.2.3/python/\n",
        "sudo pip3 install tensorrt-7.2.2.3-cp38-none-linux_x86_64.whl\n",
        "cd ..\n",
        "pip install uff/uff-0.6.9-py2.py3-none-any.whl\n",
        "pip install graphsurgeon/graphsurgeon-0.4.5-py2.py3-none-any.whl\n",
        "\n",
        "echo \"install other packages\"\n",
        "sudo apt update\n",
        "sudo apt-get install -y libeigen3-dev swig"
      ]
    },
    {
      "cell_type": "code",
      "execution_count": null,
      "metadata": {
        "colab": {
          "base_uri": "https://localhost:8080/"
        },
        "id": "caRkyDkhdNF2",
        "outputId": "fbbd1e6f-3d0f-4550-f5b6-33ce3651a59b"
      },
      "outputs": [],
      "source": [
        "%env LD_LIBRARY_PATH=/usr/local/cuda-11.1/targets/x86_64-linux/lib:/home/TensorRT-7.2.2.3/lib:$LD_LIBRARY_PATH\n",
        "%env CUDA_INSTALL_DIR=/usr/local/cuda\n",
        "%env CUDNN_INSTALL_DIR=/usr/local/cuda"
      ]
    },
    {
      "cell_type": "code",
      "execution_count": null,
      "metadata": {
        "colab": {
          "base_uri": "https://localhost:8080/"
        },
        "id": "gKWwVe_CcK0G",
        "outputId": "215924a4-a9fa-4cb6-cea6-5169783b6f4e"
      },
      "outputs": [],
      "source": [
        "%%shell\n",
        "\n",
        "cd /home/TensorRT-7.2.2.3/data/mnist\n",
        "python download_pgms.py\n",
        "\n",
        "cd /home/TensorRT-7.2.2.3/samples/sampleMNIST\n",
        "make\n",
        "cd ../../bin\n",
        "./sample_mnist\n"
      ]
    },
    {
      "cell_type": "code",
      "execution_count": null,
      "metadata": {
        "id": "yqNEgg66D8U7"
      },
      "outputs": [],
      "source": [
        "!cmake --version\n",
        "# If version>=3.22.6, you can skip the next cell."
      ]
    },
    {
      "cell_type": "code",
      "execution_count": null,
      "metadata": {
        "id": "RANNSwoJAquT"
      },
      "outputs": [],
      "source": [
        "%%shell\n",
        "\n",
        "echo \"install cmake 3.24.3 on home\"\n",
        "sudo apt-get update\n",
        "sudo apt-get install -y build-essential libssl-dev\n",
        "\n",
        "cd /home\n",
        "\n",
        "echo \"You can also download the file from the official website\"\n",
        "wget https://extremevision-js-userfile.oss-cn-hangzhou.aliyuncs.com/user-45129-files/496f99a0-2e7e-4454-8bad-f90dad285655/cmake-3.24.3.tar.gz\n",
        "\n",
        "tar -zxvf cmake-3.24.3.tar.gz\n",
        "\n",
        "cd cmake-3.24.3/\n",
        "./bootstrap\n",
        "\n",
        "make\n",
        "sudo make install\n",
        "hash -r\n",
        "\n",
        "cmake --version"
      ]
    },
    {
      "cell_type": "code",
      "execution_count": null,
      "metadata": {
        "colab": {
          "base_uri": "https://localhost:8080/"
        },
        "id": "E41vTgVoA1kX",
        "outputId": "3ebccc41-d4b4-4260-8337-ab05eaa9918a"
      },
      "outputs": [],
      "source": [
        "%%shell\n",
        "\n",
        "echo \"install opencv 4.1.2 on home\"\n",
        "cd /home\n",
        "\n",
        "echo \"You can also download the file from the official website\"\n",
        "wget https://extremevision-js-userfile.oss-cn-hangzhou.aliyuncs.com/user-45129-files/47d66834-779b-41d6-8393-8f6137d094a2/opencv412.zip\n",
        "unzip opencv412.zip\n",
        "\n",
        "find ./ -type f |xargs touch\n",
        "cd opencv-4.1.2 && rm -rf build && mkdir build && cd build\n",
        "\n",
        "cmake -D CMAKE_BUILD_TYPE=Release -D CMAKE_INSTALL_PREFIX=/usr/local -D OPENCV_EXTRA_MODULES_PATH=/home/opencv_contrib -D PYTHON_DEFAULT_EXECUTABLE=/usr/bin/python3 -D BUILD_opencv_python3=OFF -D BUILD_opencv_python2=OFF -D PYTHON3_EXCUTABLE=/usr/bin/python3 -D WITH_CUDA=OFF -D OPENCV_GENERATE_PKGCONFIG=ON ..\n",
        "\n",
        "make\n",
        "\n",
        "sudo make install\n",
        "\n",
        "pkg-config --modversion opencv4"
      ]
    },
    {
      "cell_type": "code",
      "execution_count": null,
      "metadata": {
        "colab": {
          "base_uri": "https://localhost:8080/"
        },
        "id": "tigiQAuM_c1s",
        "outputId": "d40f1647-2b20-4f2a-ceed-9fa2bf9adef0"
      },
      "outputs": [],
      "source": [
        "%%shell\n",
        "\n",
        "echo \"Compile the code of this project\"\n",
        "cd /content/YOLOv5_ByteTrack_Multithreading_TensorRT\n",
        "\n",
        "cd yolov5_cpp_6\n",
        "rm -rf build\n",
        "mkdir build\n",
        "cd build\n",
        "cmake ..\n",
        "make\n",
        "cd ..\n",
        "cd ..\n",
        "\n",
        "cd yolobytedxc2_6\n",
        "\n",
        "rm -rf CMakeFiles CMakeCache.txt Makefile cmake_install.cmake yolobyteapi.py libyolov5_trt.so\n",
        "\n",
        "cmake ./ \\\n",
        "-DPYTHON_INCLUDE_DIR=$(python -c \"from distutils.sysconfig import get_python_inc; print(get_python_inc())\")  \\\n",
        "-DPYTHON_LIBRARY=$(python -c \"import distutils.sysconfig as sysconfig; print(sysconfig.get_config_var('LIBDIR'))\")\n",
        "\n",
        "make \n"
      ]
    },
    {
      "cell_type": "markdown",
      "metadata": {
        "id": "BuIiVpX02flw"
      },
      "source": [
        "export tensorrt model"
      ]
    },
    {
      "cell_type": "code",
      "execution_count": null,
      "metadata": {
        "colab": {
          "base_uri": "https://localhost:8080/"
        },
        "id": "-_SFfOTcQWUI",
        "outputId": "99569ecc-4e91-4695-a1a5-bfe37f66921a"
      },
      "outputs": [],
      "source": [
        "%%shell\n",
        "\n",
        "echo -e \"\\nAttention! This is only design for online coding evnerviment.\\n\"\n",
        "echo -e \"\\nIf you want to use it in local, please change the path in this file.\\n\"\n",
        "\n",
        "model_dir=/content/YOLOv5_ByteTrack_Multithreading_TensorRT/cppmodels/\n",
        "src_dir=/content/YOLOv5_ByteTrack_Multithreading_TensorRT/\n",
        "#最后面的斜杠不能少\n",
        "\n",
        "model_type=m6\n",
        "#可以是 n6 s6 m6 l6 x6之一\n",
        "\n",
        "model_name=yolov5${model_type}\n",
        "yolov5_cpp=yolov5_cpp_6\n",
        "############################################################################################################\n",
        "#/project/ev_sdk/model/yolov5l.pt -> /project/ev_sdk/model/yolov5l.engine\n",
        "cp ${src_dir}${yolov5_cpp}/gen_wts.py ${src_dir}yolov5/\n",
        "echo -e \"\\nConverting ${model_dir}${model_name}.pt to ${model_dir}${model_name}.wts\\n\"\n",
        "python ${src_dir}yolov5/gen_wts.py -w ${model_dir}${model_name}.pt -o ${model_dir}${model_name}.wts\n",
        "# update CLASS_NUM in yololayer.h if your model is trained on custom dataset\n",
        "echo -e \"\\nAttention! Please update CLASS_NUM in ${src_dir}${yolov5_cpp}/yololayer.h if your model is trained on custom dataset.\\n\"\n",
        "echo -e \"\\nConverting ${model_dir}${model_name}.wts to ${model_dir}${model_name}.engine\\n\"\n",
        "${src_dir}${yolov5_cpp}/build/yolov5 -s ${model_dir}${model_name}.wts ${model_dir}${model_name}.engine ${model_type}\n",
        "#rm ${model_dir}${model_name}.wts\n",
        "echo -e \"\\nDone.\\n\""
      ]
    },
    {
      "cell_type": "markdown",
      "metadata": {
        "id": "S_AZKtvS1r6x"
      },
      "source": [
        "## Demo"
      ]
    },
    {
      "cell_type": "code",
      "execution_count": null,
      "metadata": {
        "colab": {
          "base_uri": "https://localhost:8080/"
        },
        "id": "eq1By-p71rZB",
        "outputId": "1c5da636-5e00-4549-c1c2-fa6f50430bd0"
      },
      "outputs": [],
      "source": [
        "!python /content/YOLOv5_ByteTrack_Multithreading_TensorRT/demo.py"
      ]
    },
    {
      "cell_type": "markdown",
      "metadata": {
        "id": "JX-PWb9EBzAt"
      },
      "source": [
        "## Show the result"
      ]
    },
    {
      "cell_type": "code",
      "execution_count": null,
      "metadata": {
        "id": "OJcP1jYE1wGC"
      },
      "outputs": [],
      "source": [
        "import os\n",
        "\n",
        "save_path = \"/content/outputdir/output.mp4\"\n",
        "compressed_path = \"/content/outputdir/result_compressed.mp4\"\n",
        "\n",
        "os.system(f\"ffmpeg -i {save_path} -vcodec libx264 {compressed_path}\")"
      ]
    },
    {
      "cell_type": "code",
      "execution_count": null,
      "metadata": {
        "id": "uYR_SLR5BafM"
      },
      "outputs": [],
      "source": [
        "!pip install -U kora\n",
        "from kora.drive import upload_public\n",
        "from IPython.display import HTML"
      ]
    },
    {
      "cell_type": "markdown",
      "metadata": {
        "id": "tOLhHW9PB-ob"
      },
      "source": [
        "note: Next, you will be asked to authorize the login of Google Drive to upload videos. If you do not want to authorize, you can manually download the corresponding video file to play locally."
      ]
    },
    {
      "cell_type": "code",
      "execution_count": null,
      "metadata": {
        "id": "GyJ6j3kWAJod"
      },
      "outputs": [],
      "source": [
        "url1 = upload_public('/content/YOLOv5_ByteTrack_Multithreading_TensorRT/testdata/person_street.mp4')\n",
        "HTML(f\"\"\"<video src={url1} width=500 controls/>\"\"\")"
      ]
    },
    {
      "cell_type": "code",
      "execution_count": null,
      "metadata": {
        "id": "9VbAnFJ3Acco"
      },
      "outputs": [],
      "source": [
        "url2 = upload_public(compressed_path)\n",
        "HTML(f\"\"\"<video src={url2} width=500 controls/>\"\"\")"
      ]
    }
  ],
  "metadata": {
    "accelerator": "GPU",
    "colab": {
      "provenance": []
    },
    "gpuClass": "standard",
    "kernelspec": {
      "display_name": "Python 3",
      "language": "python",
      "name": "python3"
    },
    "language_info": {
      "name": "python",
      "version": "3.9.11 (main, Mar 18 2022, 16:54:01)  [GCC 11.2.0 64 bit (AMD64)]"
    },
    "vscode": {
      "interpreter": {
        "hash": "6e74c3c131f0a674c7a1cf83ff8008aaf614adcc2cf508c4cee3675b2297b8a5"
      }
    }
  },
  "nbformat": 4,
  "nbformat_minor": 0
}
